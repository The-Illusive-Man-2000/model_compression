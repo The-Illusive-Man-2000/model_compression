{
 "cells": [
  {
   "cell_type": "code",
   "execution_count": 1,
   "id": "fceab068",
   "metadata": {},
   "outputs": [
    {
     "name": "stderr",
     "output_type": "stream",
     "text": [
      "E:\\NEW_MACHINE\\Programs\\Anaconda\\envs\\Model_Compression\\Lib\\site-packages\\tqdm\\auto.py:21: TqdmWarning: IProgress not found. Please update jupyter and ipywidgets. See https://ipywidgets.readthedocs.io/en/stable/user_install.html\n",
      "  from .autonotebook import tqdm as notebook_tqdm\n"
     ]
    }
   ],
   "source": [
    "import os\n",
    "import time\n",
    "from transformers import AutoFeatureExtractor, AutoModelForImageClassification\n",
    "import torch\n",
    "from PIL import Image\n",
    "from sklearn.metrics import accuracy_score"
   ]
  },
  {
   "cell_type": "code",
   "execution_count": 2,
   "id": "3265e880",
   "metadata": {},
   "outputs": [
    {
     "name": "stderr",
     "output_type": "stream",
     "text": [
      "E:\\NEW_MACHINE\\Programs\\Anaconda\\envs\\Model_Compression\\Lib\\site-packages\\transformers\\models\\vit\\feature_extraction_vit.py:28: FutureWarning: The class ViTFeatureExtractor is deprecated and will be removed in version 5 of Transformers. Please use ViTImageProcessor instead.\n",
      "  warnings.warn(\n"
     ]
    }
   ],
   "source": [
    "path_to_model = \"weights/my_model\"\n",
    "\n",
    "extractor = AutoFeatureExtractor.from_pretrained(path_to_model)\n",
    "vit_model = AutoModelForImageClassification.from_pretrained(path_to_model)"
   ]
  },
  {
   "cell_type": "code",
   "execution_count": 3,
   "id": "1fcff739",
   "metadata": {},
   "outputs": [],
   "source": [
    "def model_use(model, img):\n",
    "    with torch.no_grad():\n",
    "        logits = model(**img).logits\n",
    "\n",
    "    predicted_label = logits.argmax(-1).item()\n",
    "\n",
    "    return model.config.id2label[predicted_label]"
   ]
  },
  {
   "cell_type": "code",
   "execution_count": 4,
   "id": "613ff569",
   "metadata": {},
   "outputs": [],
   "source": [
    "path = \"data/\"\n",
    "images_list = os.listdir(path)"
   ]
  },
  {
   "cell_type": "code",
   "execution_count": 5,
   "id": "bf600eac",
   "metadata": {},
   "outputs": [],
   "source": [
    "def size_measurement(model):\n",
    "    param_size = 0\n",
    "    for param in model.parameters():\n",
    "        param_size += param.nelement() * param.element_size()\n",
    "\n",
    "    buffer_size = 0\n",
    "    for buffer in model.buffers():\n",
    "        buffer_size += buffer.nelement() * buffer.element_size()\n",
    "\n",
    "    size_all_mb = (param_size + buffer_size) / (1024 ** 2)\n",
    "    print('model size: {:.3f}MB'.format(size_all_mb))"
   ]
  },
  {
   "cell_type": "code",
   "execution_count": 6,
   "id": "d52bed3f",
   "metadata": {},
   "outputs": [
    {
     "name": "stdout",
     "output_type": "stream",
     "text": [
      "model size: 327.302MB\n"
     ]
    }
   ],
   "source": [
    "# Найдем исходный размер модели.\n",
    "size_measurement(vit_model)"
   ]
  },
  {
   "cell_type": "code",
   "execution_count": 7,
   "id": "ae9eba37",
   "metadata": {},
   "outputs": [
    {
     "name": "stdout",
     "output_type": "stream",
     "text": [
      "model size: 2.979MB\n"
     ]
    }
   ],
   "source": [
    "# Квантизируем модель\n",
    "quantized_model = torch.quantization.quantize_dynamic(vit_model, {torch.nn.Conv2d, torch.nn.Linear}, dtype=torch.qint8)\n",
    "\n",
    "# Посмотрим размер модели после квантизации.\n",
    "size_measurement(quantized_model)"
   ]
  },
  {
   "cell_type": "code",
   "execution_count": 8,
   "id": "1f38660f",
   "metadata": {},
   "outputs": [
    {
     "name": "stdout",
     "output_type": "stream",
     "text": [
      "Точность квантизированной модели=  0.975\n",
      "Время обработки изображений квантизированной модели=  60.72929811477661  секунд\n",
      "Скорость обработки изображений у квантизированной модели составила   2.6346426678208044  картинок в секунду\n"
     ]
    }
   ],
   "source": [
    "start_time = time.time()\n",
    "\n",
    "# Собака 1, кошка 0.\n",
    "target_list = []\n",
    "predict_list = []\n",
    "\n",
    "for element in images_list:\n",
    "\n",
    "    image = Image.open(path + element, mode='r', formats=None)\n",
    "\n",
    "    inputs = extractor(image, return_tensors=\"pt\")\n",
    "    predict = model_use(quantized_model, inputs)\n",
    "    target = element[:element.find(\".\")]\n",
    "\n",
    "    if target == \"dog\":\n",
    "        label = 1\n",
    "    else:\n",
    "        label = 0\n",
    "\n",
    "    target_list.append(label)\n",
    "\n",
    "    if predict == \"dogs\":\n",
    "        pr = 1\n",
    "    else:\n",
    "        pr = 0\n",
    "\n",
    "    predict_list.append(pr)\n",
    "\n",
    "end_time = time.time()\n",
    "\n",
    "acc = accuracy_score(target_list, predict_list)\n",
    "print(\"Точность квантизированной модели= \", acc)\n",
    "print(\"Время обработки изображений квантизированной модели= \", end_time-start_time, \" секунд\")\n",
    "print(\"Скорость обработки изображений у квантизированной модели составила  \", len(images_list)/(end_time-start_time), \" картинок в секунду\")"
   ]
  },
  {
   "cell_type": "code",
   "execution_count": null,
   "id": "f5b2438d",
   "metadata": {},
   "outputs": [],
   "source": []
  }
 ],
 "metadata": {
  "kernelspec": {
   "display_name": "Python 3 (ipykernel)",
   "language": "python",
   "name": "python3"
  },
  "language_info": {
   "codemirror_mode": {
    "name": "ipython",
    "version": 3
   },
   "file_extension": ".py",
   "mimetype": "text/x-python",
   "name": "python",
   "nbconvert_exporter": "python",
   "pygments_lexer": "ipython3",
   "version": "3.11.4"
  }
 },
 "nbformat": 4,
 "nbformat_minor": 5
}
