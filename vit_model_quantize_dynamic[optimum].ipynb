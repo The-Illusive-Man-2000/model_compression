{
 "cells": [
  {
   "cell_type": "code",
   "execution_count": 8,
   "id": "initial_id",
   "metadata": {
    "ExecuteTime": {
     "end_time": "2023-09-25T07:13:24.804707400Z",
     "start_time": "2023-09-25T07:13:20.154724400Z"
    }
   },
   "outputs": [],
   "source": [
    "import os\n",
    "import time\n",
    "\n",
    "import torch\n",
    "\n",
    "from optimum.onnxruntime import ORTModelForImageClassification, ORTQuantizer\n",
    "from optimum.onnxruntime.configuration import AutoQuantizationConfig\n",
    "from PIL import Image\n",
    "from sklearn.metrics import accuracy_score\n",
    "from transformers import AutoFeatureExtractor, pipeline\n",
    "from pathlib import Path"
   ]
  },
  {
   "cell_type": "code",
   "execution_count": 2,
   "id": "fbd7c6064ef143b2",
   "metadata": {
    "ExecuteTime": {
     "end_time": "2023-09-25T07:14:14.064335800Z",
     "start_time": "2023-09-25T07:14:06.214565400Z"
    }
   },
   "outputs": [
    {
     "name": "stderr",
     "output_type": "stream",
     "text": [
      "The argument `from_transformers` is deprecated, and will be removed in optimum 2.0.  Use `export` instead\n",
      "Framework not specified. Using pt to export to ONNX.\n",
      "C:\\Users\\shubnyi\\Miniconda3\\envs\\compression\\lib\\site-packages\\transformers\\models\\vit\\feature_extraction_vit.py:28: FutureWarning: The class ViTFeatureExtractor is deprecated and will be removed in version 5 of Transformers. Please use ViTImageProcessor instead.\n",
      "  warnings.warn(\n",
      "Using the export variant default. Available variants are:\n",
      "\t- default: The default ONNX variant.\n",
      "Using framework PyTorch: 2.0.1+cpu\n",
      "C:\\Users\\shubnyi\\Miniconda3\\envs\\compression\\lib\\site-packages\\transformers\\models\\vit\\modeling_vit.py:170: TracerWarning: Converting a tensor to a Python boolean might cause the trace to be incorrect. We can't record the data flow of Python values, so this value will be treated as a constant in the future. This means that the trace might not generalize to other inputs!\n",
      "  if num_channels != self.num_channels:\n",
      "C:\\Users\\shubnyi\\Miniconda3\\envs\\compression\\lib\\site-packages\\transformers\\models\\vit\\modeling_vit.py:176: TracerWarning: Converting a tensor to a Python boolean might cause the trace to be incorrect. We can't record the data flow of Python values, so this value will be treated as a constant in the future. This means that the trace might not generalize to other inputs!\n",
      "  if height != self.image_size[0] or width != self.image_size[1]:\n"
     ]
    },
    {
     "name": "stdout",
     "output_type": "stream",
     "text": [
      "============== Diagnostic Run torch.onnx.export version 2.0.1+cpu ==============\n",
      "verbose: False, log level: Level.ERROR\n",
      "======================= 0 NONE 0 NOTE 0 WARNING 0 ERROR ========================\n"
     ]
    },
    {
     "data": {
      "text/plain": [
       "['onnx\\\\preprocessor_config.json']"
      ]
     },
     "execution_count": 2,
     "metadata": {},
     "output_type": "execute_result"
    }
   ],
   "source": [
    "model_id = \"weights/my_model\"\n",
    "onnx_path = Path(\"onnx\")\n",
    "\n",
    "# load vanilla transformers and convert to onnx\n",
    "model = ORTModelForImageClassification.from_pretrained(model_id, from_transformers=True)\n",
    "preprocessor = AutoFeatureExtractor.from_pretrained(model_id)\n",
    "\n",
    "# save onnx checkpoint and tokenizer\n",
    "model.save_pretrained(onnx_path)\n",
    "preprocessor.save_pretrained(onnx_path)"
   ]
  },
  {
   "cell_type": "code",
   "execution_count": 3,
   "id": "9009dafeba44b9ab",
   "metadata": {
    "ExecuteTime": {
     "end_time": "2023-09-25T07:14:29.963233900Z",
     "start_time": "2023-09-25T07:14:19.635279600Z"
    }
   },
   "outputs": [
    {
     "name": "stderr",
     "output_type": "stream",
     "text": [
      "Creating dynamic quantizer: QOperator (mode: IntegerOps, schema: u8/u8, channel-wise: False)\n",
      "Quantizing model...\n",
      "Saving quantized model at: onnx (external data format: False)\n",
      "Configuration saved in onnx\\ort_config.json\n"
     ]
    }
   ],
   "source": [
    "from onnxruntime.quantization import QuantType\n",
    "from optimum.onnxruntime.configuration import default_quantization_parameters\n",
    "from optimum.onnxruntime import QuantizationConfig\n",
    "\n",
    "# create ORTQuantizer and define quantization configuration\n",
    "dynamic_quantizer = ORTQuantizer.from_pretrained(model)\n",
    "#dqconfig = AutoQuantizationConfig.avx512_vnni(is_static=False, per_channel=False, nodes_to_exclude=['Conv_quant'])\n",
    "\n",
    "format, mode, operators_to_quantize = default_quantization_parameters(\n",
    "            False, operators_to_quantize=None\n",
    "        )\n",
    "dqconfig = QuantizationConfig(\n",
    "            is_static=False,\n",
    "            format=format,\n",
    "            mode=mode,\n",
    "            activations_dtype=QuantType.QUInt8,\n",
    "            activations_symmetric=False,\n",
    "            weights_dtype=QuantType.QUInt8,\n",
    "            weights_symmetric=True,\n",
    "            per_channel=False,\n",
    "            reduce_range=False,\n",
    "            nodes_to_quantize=None or [],\n",
    "            nodes_to_exclude=None or [],\n",
    "            operators_to_quantize=operators_to_quantize,\n",
    "        )\n",
    "\n",
    "# apply the quantization configuration to the model\n",
    "model_quantized_path = dynamic_quantizer.quantize(\n",
    "    save_dir=onnx_path,\n",
    "    quantization_config=dqconfig\n",
    ")"
   ]
  },
  {
   "cell_type": "code",
   "execution_count": 4,
   "id": "21c3247d751f95ae",
   "metadata": {
    "ExecuteTime": {
     "end_time": "2023-09-25T07:14:41.134088300Z",
     "start_time": "2023-09-25T07:14:41.107757600Z"
    }
   },
   "outputs": [
    {
     "name": "stdout",
     "output_type": "stream",
     "text": [
      "Model file size: 327.55 MB\n",
      "Quantized Model file size: 83.07 MB\n"
     ]
    }
   ],
   "source": [
    "# get model file size\n",
    "size = os.path.getsize(onnx_path / \"model.onnx\")/(1024*1024)\n",
    "quantized_model = os.path.getsize(onnx_path / \"model_quantized.onnx\")/(1024*1024)\n",
    "\n",
    "print(f\"Model file size: {size:.2f} MB\")\n",
    "print(f\"Quantized Model file size: {quantized_model:.2f} MB\")\n",
    "#   Model file size: 330.27 MB\n",
    "#   Quantized Model file size: 84.50 MB"
   ]
  },
  {
   "cell_type": "code",
   "execution_count": 9,
   "id": "f096abd5",
   "metadata": {},
   "outputs": [],
   "source": [
    "model = ORTModelForImageClassification.from_pretrained(onnx_path, file_name=\"model_quantized.onnx\")\n",
    "pipe = pipeline(\"image-classification\", model=model, feature_extractor=preprocessor)"
   ]
  },
  {
   "cell_type": "code",
   "execution_count": 15,
   "id": "d60316edd5a15d7e",
   "metadata": {
    "ExecuteTime": {
     "end_time": "2023-09-25T07:14:45.774044900Z",
     "start_time": "2023-09-25T07:14:45.171483100Z"
    }
   },
   "outputs": [],
   "source": [
    "path = \"data/\"\n",
    "images_list = os.listdir(path)"
   ]
  },
  {
   "cell_type": "code",
   "execution_count": 11,
   "id": "314911ad3aabb9fb",
   "metadata": {
    "ExecuteTime": {
     "end_time": "2023-09-25T07:14:48.494084600Z",
     "start_time": "2023-09-25T07:14:48.466848Z"
    }
   },
   "outputs": [],
   "source": [
    "def model_use(model, img):\n",
    "    #model.eval()\n",
    "    #with torch.no_grad():\n",
    "    logits = model(torch.quantize_per_tensor(img['pixel_values'], 0.1, 10, torch.quint8)).logits\n",
    "    logits = model(img['pixel_values']).logits\n",
    "    logits = logits.int_repr().to(torch.float32)\n",
    "\n",
    "    predicted_label = logits.argmax(-1).item()\n",
    "\n",
    "    return model.module.config.id2label[predicted_label]"
   ]
  },
  {
   "cell_type": "code",
   "execution_count": 27,
   "id": "f4fe01703442c138",
   "metadata": {
    "ExecuteTime": {
     "end_time": "2023-09-25T07:14:49.663893400Z",
     "start_time": "2023-09-25T07:14:49.641030800Z"
    }
   },
   "outputs": [
    {
     "name": "stdout",
     "output_type": "stream",
     "text": [
      "Точность квантизированной модели =  0.9875\n",
      "Время обработки изображений квантизированной модели =  20.706819772720337  секунд\n",
      "Скорость обработки изображений у квантизированной модели составила   7.7269229054085775  картинок в секунду\n"
     ]
    }
   ],
   "source": [
    "start_time = time.time()\n",
    "\n",
    "# Собака 1, кошка 0.\n",
    "target_list = []\n",
    "predict_list = []\n",
    "\n",
    "for element in images_list:\n",
    "\n",
    "    image = Image.open(path + element, mode='r', formats=None)\n",
    "\n",
    "    inputs = pipe.feature_extractor(images=image, return_tensors=\"pt\")\n",
    "    predict = pipe.model(**inputs).logits.argmax(-1).item()\n",
    "\n",
    "    target = element[:element.find(\".\")]\n",
    "\n",
    "    if target == \"dog\":\n",
    "        label = 1\n",
    "    else:\n",
    "        label = 0\n",
    "\n",
    "    target_list.append(label) \n",
    "\n",
    "    predict_list.append(predict)\n",
    "\n",
    "end_time = time.time()\n",
    "\n",
    "acc = accuracy_score(target_list, predict_list)\n",
    "print(\"Точность квантизированной модели = \", acc)\n",
    "print(\"Время обработки изображений квантизированной модели = \", end_time-start_time, \" секунд\")\n",
    "print(\"Скорость обработки изображений у квантизированной модели составила  \", len(images_list)/(end_time-start_time), \" картинок в секунду\")"
   ]
  },
  {
   "cell_type": "code",
   "execution_count": null,
   "id": "bb001206",
   "metadata": {},
   "outputs": [],
   "source": []
  }
 ],
 "metadata": {
  "kernelspec": {
   "display_name": "Python 3 (ipykernel)",
   "language": "python",
   "name": "python3"
  },
  "language_info": {
   "codemirror_mode": {
    "name": "ipython",
    "version": 3
   },
   "file_extension": ".py",
   "mimetype": "text/x-python",
   "name": "python",
   "nbconvert_exporter": "python",
   "pygments_lexer": "ipython3",
   "version": "3.10.0"
  }
 },
 "nbformat": 4,
 "nbformat_minor": 5
}
