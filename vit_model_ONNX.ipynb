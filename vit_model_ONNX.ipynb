{
 "cells": [
  {
   "cell_type": "code",
   "execution_count": 77,
   "id": "fceab068",
   "metadata": {},
   "outputs": [],
   "source": [
    "import os\n",
    "import time\n",
    "from transformers import AutoFeatureExtractor, AutoModelForImageClassification, ViTImageProcessor\n",
    "import torch\n",
    "from PIL import Image\n",
    "from sklearn.metrics import accuracy_score\n",
    "import torch.onnx\n",
    "import onnxruntime\n",
    "import numpy"
   ]
  },
  {
   "cell_type": "code",
   "execution_count": 78,
   "id": "2a2f7a09",
   "metadata": {},
   "outputs": [],
   "source": [
    "# Путь к нашему ViT, который будем конвертировать.\n",
    "path_to_model = \"weights/my_model\"\n",
    "\n",
    "extractor = ViTImageProcessor.from_pretrained(path_to_model)\n",
    "vit_model = AutoModelForImageClassification.from_pretrained(path_to_model)"
   ]
  },
  {
   "cell_type": "code",
   "execution_count": 79,
   "id": "792f3c53",
   "metadata": {},
   "outputs": [],
   "source": [
    "def model_use(model, img):\n",
    "    with torch.no_grad():\n",
    "        logits = model(**img).logits\n",
    "\n",
    "    predicted_label = logits.argmax(-1).item()\n",
    "\n",
    "    return model.config.id2label[predicted_label]\n",
    "\n",
    "\n",
    "# Функция для запуска конвертированной в ONNX модели. \n",
    "def onnx_model_use(ort_session, img):\n",
    "    \n",
    "    model_id2label=  {0: \"cats\", 1: \"dogs\"}\n",
    "    ort_session = ort_session\n",
    "    ort_inputs = {ort_session.get_inputs()[0].name: img['pixel_values'].numpy()}\n",
    "    ort_outs = ort_session.run(None, ort_inputs)[0]\n",
    "\n",
    "    predicted_label = ort_outs.argmax(-1).item()\n",
    "\n",
    "    return model_id2label[predicted_label]"
   ]
  },
  {
   "cell_type": "code",
   "execution_count": 80,
   "id": "6e6f626d",
   "metadata": {},
   "outputs": [],
   "source": [
    "# Путь к тестовым картинкам.\n",
    "path_to_images = \"data/\"\n",
    "\n",
    "images_list = os.listdir(path_to_images)"
   ]
  },
  {
   "cell_type": "code",
   "execution_count": 81,
   "id": "4e437c71",
   "metadata": {},
   "outputs": [],
   "source": [
    "# Функция для замера размера модели.\n",
    "def size_measurement(model):\n",
    "    param_size = 0\n",
    "    for param in model.parameters():\n",
    "        param_size += param.nelement() * param.element_size()\n",
    "\n",
    "    buffer_size = 0\n",
    "    for buffer in model.buffers():\n",
    "        buffer_size += buffer.nelement() * buffer.element_size()\n",
    "\n",
    "    size_all_mb = (param_size + buffer_size) / (1024 ** 2)\n",
    "    print('model size: {:.3f}MB'.format(size_all_mb))"
   ]
  },
  {
   "cell_type": "code",
   "execution_count": 82,
   "id": "d52bed3f",
   "metadata": {},
   "outputs": [
    {
     "name": "stdout",
     "output_type": "stream",
     "text": [
      "model size: 327.302MB\n"
     ]
    }
   ],
   "source": [
    "# Найдем исходный размер модели.\n",
    "size_measurement(vit_model)"
   ]
  },
  {
   "cell_type": "code",
   "execution_count": 83,
   "id": "35bf9799",
   "metadata": {},
   "outputs": [
    {
     "name": "stdout",
     "output_type": "stream",
     "text": [
      "================ Diagnostic Run torch.onnx.export version 2.0.1 ================\n",
      "verbose: False, log level: Level.ERROR\n",
      "======================= 0 NONE 0 NOTE 0 WARNING 0 ERROR ========================\n",
      "\n"
     ]
    }
   ],
   "source": [
    "path_to_onnx_model = \"vit.onnx\"\n",
    "image = Image.open(path_to_images + images_list[0], mode='r', formats=None)\n",
    "inputs_onnx = extractor(image, return_tensors=\"pt\")\n",
    "\n",
    "torch_out = vit_model(**inputs_onnx)\n",
    "\n",
    "# Экспортируем модель в ONNX.\n",
    "torch.onnx.export(vit_model,  # model being run\n",
    "                  {'pixel_values': inputs_onnx['pixel_values']},  # model input (or a tuple for multiple inputs)\n",
    "                  path_to_onnx_model,   # where to save the model (can be a file or file-like object)\n",
    "                  export_params=True,        # store the trained parameter weights inside the model file\n",
    "                  opset_version=11,          # the ONNX version to export the model to\n",
    "                  do_constant_folding=True,  # whether to execute constant folding for optimization\n",
    "                  input_names = ['pixel_values'],   # the model's input names\n",
    "                  output_names = ['output'], # the model's output names\n",
    "                  dynamic_axes={'pixel_values' : {0 : 'batch_size'},    # variable length axes\n",
    "                                'output' : {0 : 'batch_size'}})"
   ]
  },
  {
   "cell_type": "code",
   "execution_count": 84,
   "id": "e6f32168",
   "metadata": {},
   "outputs": [
    {
     "name": "stdout",
     "output_type": "stream",
     "text": [
      "Размер модели после конвертации в ONNX стал  327.5526752471924  мегабайт.\n"
     ]
    }
   ],
   "source": [
    "# Проверим размер ONNX модели.\n",
    "onnx_file_size = os.path.getsize(path_to_onnx_model)/(1024**2)\n",
    "\n",
    "print(\"Размер модели после конвертации в ONNX стал \", onnx_file_size, \" мегабайт.\")"
   ]
  },
  {
   "cell_type": "code",
   "execution_count": 85,
   "id": "3b6fe85e",
   "metadata": {},
   "outputs": [],
   "source": [
    "# Загрузим ONNX модель.\n",
    "ort_session = onnxruntime.InferenceSession(path_to_onnx_model)"
   ]
  },
  {
   "cell_type": "code",
   "execution_count": 86,
   "id": "1ba0e8bc",
   "metadata": {},
   "outputs": [
    {
     "name": "stdout",
     "output_type": "stream",
     "text": [
      "Точность сконвертированной в ONNX модели=  0.9875\n",
      "Время обработки изображений сконвертированной в ONNX моделью =  19.00001573562622  секунд\n",
      "Скорость обработки изображений у сконвертированной в ONNX модели составила   8.421045657345955  картинок в секунду\n"
     ]
    }
   ],
   "source": [
    "# Запустим тест нашей ONNX модели.\n",
    "\n",
    "start_time = time.time()\n",
    "\n",
    "# Собака 1, кошка 0.\n",
    "target_list = []\n",
    "predict_list = []\n",
    "\n",
    "for element in images_list:\n",
    "\n",
    "    image = Image.open(path + element, mode='r', formats=None)\n",
    "\n",
    "    inputs = extractor(image, return_tensors=\"pt\")\n",
    "    predict = onnx_model_use(ort_session, inputs)\n",
    "    target = element[:element.find(\".\")]\n",
    "\n",
    "    if target == \"dog\":\n",
    "        label = 1\n",
    "    else:\n",
    "        label = 0\n",
    "\n",
    "    target_list.append(label)\n",
    "\n",
    "    if predict == \"dogs\":\n",
    "        pr = 1\n",
    "    else:\n",
    "        pr = 0\n",
    "\n",
    "    predict_list.append(pr)\n",
    "\n",
    "end_time = time.time()\n",
    "\n",
    "acc = accuracy_score(target_list, predict_list)\n",
    "print(\"Точность сконвертированной в ONNX модели= \", acc)\n",
    "print(\"Время обработки изображений сконвертированной в ONNX моделью = \", end_time-start_time, \" секунд\")\n",
    "print(\"Скорость обработки изображений у сконвертированной в ONNX модели составила  \", len(images_list)/(end_time-start_time), \" картинок в секунду\")"
   ]
  },
  {
   "cell_type": "code",
   "execution_count": null,
   "id": "3e427d9f",
   "metadata": {},
   "outputs": [],
   "source": []
  }
 ],
 "metadata": {
  "kernelspec": {
   "display_name": "Python 3 (ipykernel)",
   "language": "python",
   "name": "python3"
  },
  "language_info": {
   "codemirror_mode": {
    "name": "ipython",
    "version": 3
   },
   "file_extension": ".py",
   "mimetype": "text/x-python",
   "name": "python",
   "nbconvert_exporter": "python",
   "pygments_lexer": "ipython3",
   "version": "3.11.4"
  }
 },
 "nbformat": 4,
 "nbformat_minor": 5
}
