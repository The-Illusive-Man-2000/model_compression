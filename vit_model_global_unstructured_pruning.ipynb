{
 "cells": [
  {
   "cell_type": "code",
   "execution_count": 1,
   "id": "fceab068",
   "metadata": {},
   "outputs": [
    {
     "name": "stderr",
     "output_type": "stream",
     "text": [
      "E:\\NEW_MACHINE\\Programs\\Anaconda\\envs\\Model_Compression\\Lib\\site-packages\\tqdm\\auto.py:21: TqdmWarning: IProgress not found. Please update jupyter and ipywidgets. See https://ipywidgets.readthedocs.io/en/stable/user_install.html\n",
      "  from .autonotebook import tqdm as notebook_tqdm\n"
     ]
    }
   ],
   "source": [
    "import os\n",
    "import time\n",
    "from transformers import AutoFeatureExtractor, AutoModelForImageClassification\n",
    "import torch\n",
    "import torch.nn as nn\n",
    "from PIL import Image\n",
    "from sklearn.metrics import accuracy_score\n",
    "import torch.nn.utils.prune as prune\n",
    "import copy"
   ]
  },
  {
   "cell_type": "code",
   "execution_count": 2,
   "id": "2a2f7a09",
   "metadata": {},
   "outputs": [
    {
     "name": "stderr",
     "output_type": "stream",
     "text": [
      "E:\\NEW_MACHINE\\Programs\\Anaconda\\envs\\Model_Compression\\Lib\\site-packages\\transformers\\models\\vit\\feature_extraction_vit.py:28: FutureWarning: The class ViTFeatureExtractor is deprecated and will be removed in version 5 of Transformers. Please use ViTImageProcessor instead.\n",
      "  warnings.warn(\n"
     ]
    }
   ],
   "source": [
    "path_to_model = \"weights/my_model\"\n",
    "\n",
    "extractor = AutoFeatureExtractor.from_pretrained(path_to_model)\n",
    "vit_model = AutoModelForImageClassification.from_pretrained(path_to_model)"
   ]
  },
  {
   "cell_type": "code",
   "execution_count": 3,
   "id": "792f3c53",
   "metadata": {},
   "outputs": [],
   "source": [
    "def model_use(model, img):\n",
    "    with torch.no_grad():\n",
    "        logits = model(**img).logits\n",
    "\n",
    "    predicted_label = logits.argmax(-1).item()\n",
    "\n",
    "    return model.config.id2label[predicted_label]"
   ]
  },
  {
   "cell_type": "code",
   "execution_count": 4,
   "id": "6e6f626d",
   "metadata": {},
   "outputs": [],
   "source": [
    "path = \"data/\"\n",
    "images_list = os.listdir(path)"
   ]
  },
  {
   "cell_type": "code",
   "execution_count": 5,
   "id": "4e437c71",
   "metadata": {},
   "outputs": [],
   "source": [
    "def size_measurement(model):\n",
    "    param_size = 0\n",
    "    for param in model.parameters():\n",
    "        param_size += param.nelement() * param.element_size()\n",
    "\n",
    "    buffer_size = 0\n",
    "    for buffer in model.buffers():\n",
    "        buffer_size += buffer.nelement() * buffer.element_size()\n",
    "\n",
    "    size_all_mb = (param_size + buffer_size) / (1024 ** 2)\n",
    "    print('model size: {:.3f}MB'.format(size_all_mb))"
   ]
  },
  {
   "cell_type": "code",
   "execution_count": 6,
   "id": "e4510f03",
   "metadata": {},
   "outputs": [
    {
     "data": {
      "text/plain": [
       "85800194"
      ]
     },
     "execution_count": 6,
     "metadata": {},
     "output_type": "execute_result"
    }
   ],
   "source": [
    "# num of parameters\n",
    "vit_model.num_parameters()"
   ]
  },
  {
   "cell_type": "code",
   "execution_count": 7,
   "id": "d52bed3f",
   "metadata": {},
   "outputs": [
    {
     "name": "stdout",
     "output_type": "stream",
     "text": [
      "model size: 327.302MB\n"
     ]
    }
   ],
   "source": [
    "# Найдем исходный размер модели.\n",
    "size_measurement(vit_model)"
   ]
  },
  {
   "cell_type": "code",
   "execution_count": 8,
   "id": "0893ea02",
   "metadata": {},
   "outputs": [],
   "source": [
    "parameters_to_prune = []\n",
    "\n",
    "vit_model_copy = copy.deepcopy(vit_model)\n",
    "\n",
    "# prune several layers\n",
    "parameters_to_prune.append((vit_model_copy.vit.embeddings.patch_embeddings.projection, 'weight'))\n",
    "parameters_to_prune.append((vit_model_copy.vit.layernorm, 'weight'))\n",
    "parameters_to_prune.append((vit_model_copy.classifier, 'weight'))\n"
   ]
  },
  {
   "cell_type": "code",
   "execution_count": 9,
   "id": "7d33d95a",
   "metadata": {},
   "outputs": [
    {
     "name": "stdout",
     "output_type": "stream",
     "text": [
      "[(Conv2d(3, 768, kernel_size=(16, 16), stride=(16, 16)), 'weight'), (LayerNorm((768,), eps=1e-12, elementwise_affine=True), 'weight'), (Linear(in_features=768, out_features=2, bias=True), 'weight')]\n"
     ]
    }
   ],
   "source": [
    "print(parameters_to_prune)"
   ]
  },
  {
   "cell_type": "code",
   "execution_count": 10,
   "id": "270569ba",
   "metadata": {},
   "outputs": [
    {
     "name": "stdout",
     "output_type": "stream",
     "text": [
      "Sparsity in vit_model_copy.vit.embeddings.patch_embeddings.projection.weight: 0.00%\n",
      "Sparsity in vit_model_copy.vit.layernorm.weight: 0.00%\n",
      "Sparsity in vit_model_copy.classifier.weight: 0.00%\n",
      "Global sparsity: 0.00%\n"
     ]
    }
   ],
   "source": [
    "print(\n",
    "    \"Sparsity in vit_model_copy.vit.embeddings.patch_embeddings.projection.weight: {:.2f}%\".format(\n",
    "        100. * float(torch.sum(vit_model_copy.vit.embeddings.patch_embeddings.projection.weight == 0))\n",
    "        / float(vit_model_copy.vit.embeddings.patch_embeddings.projection.weight.nelement())\n",
    "    )\n",
    ")\n",
    "\n",
    "\n",
    "\n",
    "print(\n",
    "    \"Sparsity in vit_model_copy.vit.layernorm.weight: {:.2f}%\".format(\n",
    "        100. * float(torch.sum(vit_model_copy.vit.layernorm.weight == 0))\n",
    "        / float(vit_model_copy.vit.layernorm.weight.nelement())\n",
    "    )\n",
    ")\n",
    "\n",
    "print(\n",
    "    \"Sparsity in vit_model_copy.classifier.weight: {:.2f}%\".format(\n",
    "        100. * float(torch.sum(vit_model_copy.classifier.weight == 0))\n",
    "        / float(vit_model_copy.classifier.weight.nelement())\n",
    "    )\n",
    ")\n",
    "\n",
    "\n",
    "print(  \n",
    "    \"Global sparsity: {:.2f}%\".format(  \n",
    "        100. * float(torch.sum(vit_model_copy.vit.embeddings.patch_embeddings.projection.weight == 0)  \n",
    "            +  torch.sum(vit_model_copy.vit.layernorm.weight == 0)  \n",
    "            + torch.sum(vit_model_copy.classifier.weight == 0)  \n",
    " \n",
    "        )  \n",
    "        / float(vit_model_copy.vit.embeddings.patch_embeddings.projection.weight.nelement()  \n",
    "            + vit_model_copy.vit.layernorm.weight.nelement()  \n",
    "            + vit_model_copy.classifier.weight.nelement()  \n",
    " \n",
    "        )  \n",
    "    )  \n",
    ") "
   ]
  },
  {
   "cell_type": "code",
   "execution_count": 11,
   "id": "58d58ef7",
   "metadata": {},
   "outputs": [
    {
     "name": "stdout",
     "output_type": "stream",
     "text": [
      "<bound method PreTrainedModel.prune_heads of ViTForImageClassification(\n",
      "  (vit): ViTModel(\n",
      "    (embeddings): ViTEmbeddings(\n",
      "      (patch_embeddings): ViTPatchEmbeddings(\n",
      "        (projection): Conv2d(3, 768, kernel_size=(16, 16), stride=(16, 16))\n",
      "      )\n",
      "      (dropout): Dropout(p=0.0, inplace=False)\n",
      "    )\n",
      "    (encoder): ViTEncoder(\n",
      "      (layer): ModuleList(\n",
      "        (0-11): 12 x ViTLayer(\n",
      "          (attention): ViTAttention(\n",
      "            (attention): ViTSelfAttention(\n",
      "              (query): Linear(in_features=768, out_features=768, bias=True)\n",
      "              (key): Linear(in_features=768, out_features=768, bias=True)\n",
      "              (value): Linear(in_features=768, out_features=768, bias=True)\n",
      "              (dropout): Dropout(p=0.0, inplace=False)\n",
      "            )\n",
      "            (output): ViTSelfOutput(\n",
      "              (dense): Linear(in_features=768, out_features=768, bias=True)\n",
      "              (dropout): Dropout(p=0.0, inplace=False)\n",
      "            )\n",
      "          )\n",
      "          (intermediate): ViTIntermediate(\n",
      "            (dense): Linear(in_features=768, out_features=3072, bias=True)\n",
      "            (intermediate_act_fn): GELUActivation()\n",
      "          )\n",
      "          (output): ViTOutput(\n",
      "            (dense): Linear(in_features=3072, out_features=768, bias=True)\n",
      "            (dropout): Dropout(p=0.0, inplace=False)\n",
      "          )\n",
      "          (layernorm_before): LayerNorm((768,), eps=1e-12, elementwise_affine=True)\n",
      "          (layernorm_after): LayerNorm((768,), eps=1e-12, elementwise_affine=True)\n",
      "        )\n",
      "      )\n",
      "    )\n",
      "    (layernorm): LayerNorm((768,), eps=1e-12, elementwise_affine=True)\n",
      "  )\n",
      "  (classifier): Linear(in_features=768, out_features=2, bias=True)\n",
      ")>\n"
     ]
    }
   ],
   "source": [
    "print(vit_model.prune_heads)"
   ]
  },
  {
   "cell_type": "code",
   "execution_count": 12,
   "id": "f03fb835",
   "metadata": {},
   "outputs": [],
   "source": [
    "pruning_method = torch.nn.utils.prune.L1Unstructured\n",
    "\n",
    "prune.global_unstructured(  \n",
    "    parameters_to_prune,  \n",
    "    pruning_method=pruning_method,  \n",
    "    amount=0.5)    "
   ]
  },
  {
   "cell_type": "code",
   "execution_count": 13,
   "id": "bd770304",
   "metadata": {},
   "outputs": [
    {
     "name": "stdout",
     "output_type": "stream",
     "text": [
      "Sparsity in vit_model_copy.vit.embeddings.patch_embeddings.projection.weight: 50.01%\n",
      "Sparsity in vit_model_copy.vit.layernorm.weight: 0.39%\n",
      "Sparsity in vit_model_copy.classifier.weight: 70.31%\n",
      "Global sparsity: 50.00%\n"
     ]
    }
   ],
   "source": [
    "print(\n",
    "    \"Sparsity in vit_model_copy.vit.embeddings.patch_embeddings.projection.weight: {:.2f}%\".format(\n",
    "        100. * float(torch.sum(vit_model_copy.vit.embeddings.patch_embeddings.projection.weight == 0))\n",
    "        / float(vit_model_copy.vit.embeddings.patch_embeddings.projection.weight.nelement())\n",
    "    )\n",
    ")\n",
    "\n",
    "print(\n",
    "    \"Sparsity in vit_model_copy.vit.layernorm.weight: {:.2f}%\".format(\n",
    "        100. * float(torch.sum(vit_model_copy.vit.layernorm.weight == 0))\n",
    "        / float(vit_model_copy.vit.layernorm.weight.nelement())\n",
    "    )\n",
    ")\n",
    "\n",
    "print(\n",
    "    \"Sparsity in vit_model_copy.classifier.weight: {:.2f}%\".format(\n",
    "        100. * float(torch.sum(vit_model_copy.classifier.weight == 0))\n",
    "        / float(vit_model_copy.classifier.weight.nelement())\n",
    "    )\n",
    ")\n",
    "\n",
    "\n",
    "print(  \n",
    "    \"Global sparsity: {:.2f}%\".format(  \n",
    "        100. * float(torch.sum(vit_model_copy.vit.embeddings.patch_embeddings.projection.weight == 0)  \n",
    "            +  torch.sum(vit_model_copy.vit.layernorm.weight == 0)  \n",
    "            + torch.sum(vit_model_copy.classifier.weight == 0)  \n",
    " \n",
    "        )  \n",
    "        / float(vit_model_copy.vit.embeddings.patch_embeddings.projection.weight.nelement()  \n",
    "            + vit_model_copy.vit.layernorm.weight.nelement()  \n",
    "            + vit_model_copy.classifier.weight.nelement()  \n",
    " \n",
    "        )  \n",
    "    )  \n",
    ")"
   ]
  },
  {
   "cell_type": "code",
   "execution_count": 14,
   "id": "1ea23031",
   "metadata": {},
   "outputs": [
    {
     "data": {
      "text/plain": [
       "85800194"
      ]
     },
     "execution_count": 14,
     "metadata": {},
     "output_type": "execute_result"
    }
   ],
   "source": [
    "# num of parameters\n",
    "vit_model_copy.num_parameters()"
   ]
  },
  {
   "cell_type": "code",
   "execution_count": 15,
   "id": "5fd285f9",
   "metadata": {},
   "outputs": [
    {
     "name": "stdout",
     "output_type": "stream",
     "text": [
      "model size: 329.561MB\n"
     ]
    }
   ],
   "source": [
    "# Найдем размер модели после глобального неструктурированного прунинга.\n",
    "size_measurement(vit_model_copy)"
   ]
  },
  {
   "cell_type": "code",
   "execution_count": 16,
   "id": "1ba0e8bc",
   "metadata": {},
   "outputs": [
    {
     "name": "stdout",
     "output_type": "stream",
     "text": [
      "Точность модели после прунинга=  0.95\n",
      "Время обработки изображений модели после прунинга =  879.3829545974731  секунд\n",
      "Скорость обработки изображений у модели после прунинга составила   0.18194575999399268  картинок в секунду\n"
     ]
    }
   ],
   "source": [
    "start_time = time.time()\n",
    "\n",
    "# Собака 1, кошка 0.\n",
    "target_list = []\n",
    "predict_list = []\n",
    "\n",
    "for element in images_list:\n",
    "\n",
    "    image = Image.open(path + element, mode='r', formats=None)\n",
    "\n",
    "    inputs = extractor(image, return_tensors=\"pt\")\n",
    "    predict = model_use(vit_model_copy, inputs)\n",
    "    target = element[:element.find(\".\")]\n",
    "\n",
    "    if target == \"dog\":\n",
    "        label = 1\n",
    "    else:\n",
    "        label = 0\n",
    "\n",
    "    target_list.append(label)\n",
    "\n",
    "    if predict == \"dogs\":\n",
    "        pr = 1\n",
    "    else:\n",
    "        pr = 0\n",
    "\n",
    "    predict_list.append(pr)\n",
    "\n",
    "end_time = time.time()\n",
    "\n",
    "acc = accuracy_score(target_list, predict_list)\n",
    "print(\"Точность модели после прунинга= \", acc)\n",
    "print(\"Время обработки изображений модели после прунинга = \", end_time-start_time, \" секунд\")\n",
    "print(\"Скорость обработки изображений у модели после прунинга составила  \", len(images_list)/(end_time-start_time), \" картинок в секунду\")"
   ]
  },
  {
   "cell_type": "code",
   "execution_count": null,
   "id": "3e427d9f",
   "metadata": {},
   "outputs": [],
   "source": []
  }
 ],
 "metadata": {
  "kernelspec": {
   "display_name": "Python 3 (ipykernel)",
   "language": "python",
   "name": "python3"
  },
  "language_info": {
   "codemirror_mode": {
    "name": "ipython",
    "version": 3
   },
   "file_extension": ".py",
   "mimetype": "text/x-python",
   "name": "python",
   "nbconvert_exporter": "python",
   "pygments_lexer": "ipython3",
   "version": "3.11.4"
  }
 },
 "nbformat": 4,
 "nbformat_minor": 5
}
