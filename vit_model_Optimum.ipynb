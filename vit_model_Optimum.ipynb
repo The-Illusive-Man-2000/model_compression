{
 "cells": [
  {
   "cell_type": "code",
   "execution_count": 1,
   "id": "fceab068",
   "metadata": {},
   "outputs": [],
   "source": [
    "import os\n",
    "import time\n",
    "from transformers import AutoModelForImageClassification, ViTImageProcessor\n",
    "import torch\n",
    "from PIL import Image\n",
    "from sklearn.metrics import accuracy_score\n",
    "import optimum\n",
    "from optimum.onnxruntime import ORTModelForImageClassification"
   ]
  },
  {
   "cell_type": "code",
   "execution_count": 2,
   "id": "2a2f7a09",
   "metadata": {},
   "outputs": [],
   "source": [
    "path_to_model = \"weights/my_model\"\n",
    "\n",
    "extractor = ViTImageProcessor.from_pretrained(path_to_model)\n",
    "vit_model = AutoModelForImageClassification.from_pretrained(path_to_model)"
   ]
  },
  {
   "cell_type": "code",
   "execution_count": 3,
   "id": "87376269",
   "metadata": {},
   "outputs": [
    {
     "name": "stderr",
     "output_type": "stream",
     "text": [
      "Framework not specified. Using pt to export to ONNX.\n",
      "E:\\NEW_MACHINE\\Programs\\Anaconda\\envs\\Model_Compression\\Lib\\site-packages\\transformers\\models\\vit\\feature_extraction_vit.py:28: FutureWarning: The class ViTFeatureExtractor is deprecated and will be removed in version 5 of Transformers. Please use ViTImageProcessor instead.\n",
      "  warnings.warn(\n",
      "Using framework PyTorch: 2.0.1\n",
      "E:\\NEW_MACHINE\\Programs\\Anaconda\\envs\\Model_Compression\\Lib\\site-packages\\transformers\\models\\vit\\modeling_vit.py:170: TracerWarning: Converting a tensor to a Python boolean might cause the trace to be incorrect. We can't record the data flow of Python values, so this value will be treated as a constant in the future. This means that the trace might not generalize to other inputs!\n",
      "  if num_channels != self.num_channels:\n",
      "E:\\NEW_MACHINE\\Programs\\Anaconda\\envs\\Model_Compression\\Lib\\site-packages\\transformers\\models\\vit\\modeling_vit.py:176: TracerWarning: Converting a tensor to a Python boolean might cause the trace to be incorrect. We can't record the data flow of Python values, so this value will be treated as a constant in the future. This means that the trace might not generalize to other inputs!\n",
      "  if height != self.image_size[0] or width != self.image_size[1]:\n"
     ]
    },
    {
     "name": "stdout",
     "output_type": "stream",
     "text": [
      "================ Diagnostic Run torch.onnx.export version 2.0.1 ================\n",
      "verbose: False, log level: Level.ERROR\n",
      "======================= 0 NONE 0 NOTE 0 WARNING 0 ERROR ========================\n",
      "\n"
     ]
    },
    {
     "data": {
      "text/plain": [
       "['vit_onnx_optimum\\\\preprocessor_config.json']"
      ]
     },
     "execution_count": 3,
     "metadata": {},
     "output_type": "execute_result"
    }
   ],
   "source": [
    "save_directory = \"vit_onnx_optimum\"\n",
    "\n",
    "ort_model = ORTModelForImageClassification.from_pretrained(path_to_model, export=True)\n",
    "ort_model.save_pretrained(save_directory)\n",
    "extractor.save_pretrained(save_directory)"
   ]
  },
  {
   "cell_type": "code",
   "execution_count": 4,
   "id": "474ce66d",
   "metadata": {},
   "outputs": [],
   "source": [
    "extractor_onnx = ViTImageProcessor.from_pretrained(save_directory)\n",
    "vit_model_onnx = ORTModelForImageClassification.from_pretrained(save_directory)"
   ]
  },
  {
   "cell_type": "code",
   "execution_count": 5,
   "id": "792f3c53",
   "metadata": {},
   "outputs": [],
   "source": [
    "def model_use(model, img):\n",
    "    with torch.no_grad():\n",
    "        logits = model(**img).logits\n",
    "\n",
    "    predicted_label = logits.argmax(-1).item()\n",
    "\n",
    "    return model.config.id2label[predicted_label]"
   ]
  },
  {
   "cell_type": "code",
   "execution_count": 6,
   "id": "6e6f626d",
   "metadata": {},
   "outputs": [],
   "source": [
    "path = \"data/\"\n",
    "images_list = os.listdir(path)"
   ]
  },
  {
   "cell_type": "code",
   "execution_count": 7,
   "id": "4e437c71",
   "metadata": {},
   "outputs": [],
   "source": [
    "def size_measurement(model):\n",
    "    param_size = 0\n",
    "    for param in model.parameters():\n",
    "        param_size += param.nelement() * param.element_size()\n",
    "\n",
    "    buffer_size = 0\n",
    "    for buffer in model.buffers():\n",
    "        buffer_size += buffer.nelement() * buffer.element_size()\n",
    "\n",
    "    size_all_mb = (param_size + buffer_size) / (1024 ** 2)\n",
    "    print('model size: {:.3f}MB'.format(size_all_mb))"
   ]
  },
  {
   "cell_type": "code",
   "execution_count": 8,
   "id": "d52bed3f",
   "metadata": {},
   "outputs": [
    {
     "name": "stdout",
     "output_type": "stream",
     "text": [
      "model size: 327.302MB\n"
     ]
    }
   ],
   "source": [
    "# Найдем исходный размер модели.\n",
    "size_measurement(vit_model)"
   ]
  },
  {
   "cell_type": "code",
   "execution_count": 9,
   "id": "bd6f9277",
   "metadata": {},
   "outputs": [
    {
     "name": "stdout",
     "output_type": "stream",
     "text": [
      "Размер модели после конвертации в ONNX стал  327.552695274353  мегабайт.\n"
     ]
    }
   ],
   "source": [
    "# Проверим размер ONNX модели.\n",
    "onnx_file_size = os.path.getsize(save_directory + \"/\" + \"model.onnx\")/(1024**2)\n",
    "\n",
    "print(\"Размер модели после конвертации в ONNX стал \", onnx_file_size, \" мегабайт.\")"
   ]
  },
  {
   "cell_type": "code",
   "execution_count": 10,
   "id": "1ba0e8bc",
   "metadata": {},
   "outputs": [
    {
     "name": "stdout",
     "output_type": "stream",
     "text": [
      "Точность модели сконвертированной в ONNX =  0.9875\n",
      "Время обработки изображений модели сконвертированной в ONNX =  17.910914182662964  секунд\n",
      "Скорость обработки изображений у модели сконвертированной в ONNX составила   8.93310069872779  картинок в секунду\n"
     ]
    }
   ],
   "source": [
    "start_time = time.time()\n",
    "\n",
    "# Собака 1, кошка 0.\n",
    "target_list = []\n",
    "predict_list = []\n",
    "\n",
    "for element in images_list:\n",
    "\n",
    "    image = Image.open(path + element, mode='r', formats=None)\n",
    "\n",
    "    inputs = extractor_onnx(image, return_tensors=\"pt\")\n",
    "    predict = model_use(vit_model_onnx, inputs)\n",
    "    target = element[:element.find(\".\")]\n",
    "\n",
    "    if target == \"dog\":\n",
    "        label = 1\n",
    "    else:\n",
    "        label = 0\n",
    "\n",
    "    target_list.append(label)\n",
    "\n",
    "    if predict == \"dogs\":\n",
    "        pr = 1\n",
    "    else:\n",
    "        pr = 0\n",
    "\n",
    "    predict_list.append(pr)\n",
    "\n",
    "end_time = time.time()\n",
    "\n",
    "acc = accuracy_score(target_list, predict_list)\n",
    "print(\"Точность модели сконвертированной в ONNX = \", acc)\n",
    "print(\"Время обработки изображений модели сконвертированной в ONNX = \", end_time-start_time, \" секунд\")\n",
    "print(\"Скорость обработки изображений у модели сконвертированной в ONNX составила  \", len(images_list)/(end_time-start_time), \" картинок в секунду\")"
   ]
  },
  {
   "cell_type": "code",
   "execution_count": null,
   "id": "3e427d9f",
   "metadata": {},
   "outputs": [],
   "source": []
  }
 ],
 "metadata": {
  "kernelspec": {
   "display_name": "Python 3 (ipykernel)",
   "language": "python",
   "name": "python3"
  },
  "language_info": {
   "codemirror_mode": {
    "name": "ipython",
    "version": 3
   },
   "file_extension": ".py",
   "mimetype": "text/x-python",
   "name": "python",
   "nbconvert_exporter": "python",
   "pygments_lexer": "ipython3",
   "version": "3.11.4"
  }
 },
 "nbformat": 4,
 "nbformat_minor": 5
}
