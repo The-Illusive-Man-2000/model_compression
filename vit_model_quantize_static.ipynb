{
 "cells": [
  {
   "cell_type": "code",
   "execution_count": 16,
   "id": "fceab068",
   "metadata": {
    "is_executing": true,
    "scrolled": true
   },
   "outputs": [],
   "source": [
    "import os\n",
    "import time\n",
    "from transformers import AutoFeatureExtractor, AutoModelForImageClassification\n",
    "import torch\n",
    "from PIL import Image\n",
    "from sklearn.metrics import accuracy_score"
   ]
  },
  {
   "cell_type": "code",
   "execution_count": 17,
   "id": "3265e880",
   "metadata": {},
   "outputs": [
    {
     "name": "stderr",
     "output_type": "stream",
     "text": [
      "/home/sergey/anaconda3/envs/model_compression/lib/python3.10/site-packages/transformers/models/vit/feature_extraction_vit.py:28: FutureWarning: The class ViTFeatureExtractor is deprecated and will be removed in version 5 of Transformers. Please use ViTImageProcessor instead.\n",
      "  warnings.warn(\n"
     ]
    }
   ],
   "source": [
    "path_to_model = \"weights/my_model\"\n",
    "\n",
    "extractor = AutoFeatureExtractor.from_pretrained(path_to_model)\n",
    "vit_model = AutoModelForImageClassification.from_pretrained(path_to_model)"
   ]
  },
  {
   "cell_type": "code",
   "execution_count": 18,
   "id": "1fcff739",
   "metadata": {},
   "outputs": [],
   "source": [
    "def model_use(model, img):\n",
    "    model.eval()\n",
    "    with torch.no_grad():\n",
    "        logits = model(torch.quantize_per_tensor(img['pixel_values'], 0.1, 10, torch.quint8)).logits\n",
    "        logits = model(img['pixel_values']).logits\n",
    "        logits = logits.int_repr().to(torch.float32)\n",
    "\n",
    "    predicted_label = logits.argmax(-1).item()\n",
    "\n",
    "    return model.module.config.id2label[predicted_label]"
   ]
  },
  {
   "cell_type": "code",
   "execution_count": 19,
   "id": "613ff569",
   "metadata": {},
   "outputs": [],
   "source": [
    "path = \"data/\"\n",
    "images_list = os.listdir(path)"
   ]
  },
  {
   "cell_type": "code",
   "execution_count": 20,
   "id": "bf600eac",
   "metadata": {},
   "outputs": [],
   "source": [
    "def size_measurement(model):\n",
    "    param_size = 0\n",
    "    for param in model.parameters():\n",
    "        param_size += param.nelement() * param.element_size()\n",
    "\n",
    "    buffer_size = 0\n",
    "    for buffer in model.buffers():\n",
    "        buffer_size += buffer.nelement() * buffer.element_size()\n",
    "\n",
    "    size_all_mb = (param_size + buffer_size) / (1024 ** 2)\n",
    "    print('model size: {:.3f}MB'.format(size_all_mb))"
   ]
  },
  {
   "cell_type": "code",
   "execution_count": 21,
   "id": "d52bed3f",
   "metadata": {},
   "outputs": [
    {
     "name": "stdout",
     "output_type": "stream",
     "text": [
      "model size: 327.302MB\n"
     ]
    }
   ],
   "source": [
    "# Найдем исходный размер модели.\n",
    "size_measurement(vit_model)"
   ]
  },
  {
   "cell_type": "code",
   "execution_count": 22,
   "id": "5900a80d-4a7a-497d-932e-8d7ca03a6776",
   "metadata": {},
   "outputs": [],
   "source": [
    "# Функция для просмотра всех слоев модели\n",
    "def get_children(model: torch.nn.Module):\n",
    "    children = list(model.children())\n",
    "    flatt_children = []\n",
    "    if children == []:\n",
    "        return model\n",
    "    else:\n",
    "       for child in children:\n",
    "            try:\n",
    "                flatt_children.extend(get_children(child))\n",
    "            except TypeError:\n",
    "                flatt_children.append(get_children(child))\n",
    "    return flatt_children"
   ]
  },
  {
   "cell_type": "code",
   "execution_count": 23,
   "id": "c4efd38a-a4a0-4799-8224-8a8d8fccb52f",
   "metadata": {},
   "outputs": [
    {
     "data": {
      "text/plain": [
       "[Conv2d(3, 768, kernel_size=(16, 16), stride=(16, 16)),\n",
       " Dropout(p=0.0, inplace=False),\n",
       " Linear(in_features=768, out_features=768, bias=True),\n",
       " Linear(in_features=768, out_features=768, bias=True),\n",
       " Linear(in_features=768, out_features=768, bias=True),\n",
       " Dropout(p=0.0, inplace=False),\n",
       " Linear(in_features=768, out_features=768, bias=True),\n",
       " Dropout(p=0.0, inplace=False),\n",
       " Linear(in_features=768, out_features=3072, bias=True),\n",
       " GELUActivation(),\n",
       " Linear(in_features=3072, out_features=768, bias=True),\n",
       " Dropout(p=0.0, inplace=False),\n",
       " LayerNorm((768,), eps=1e-12, elementwise_affine=True),\n",
       " LayerNorm((768,), eps=1e-12, elementwise_affine=True),\n",
       " Linear(in_features=768, out_features=768, bias=True),\n",
       " Linear(in_features=768, out_features=768, bias=True),\n",
       " Linear(in_features=768, out_features=768, bias=True),\n",
       " Dropout(p=0.0, inplace=False),\n",
       " Linear(in_features=768, out_features=768, bias=True),\n",
       " Dropout(p=0.0, inplace=False),\n",
       " Linear(in_features=768, out_features=3072, bias=True),\n",
       " GELUActivation(),\n",
       " Linear(in_features=3072, out_features=768, bias=True),\n",
       " Dropout(p=0.0, inplace=False),\n",
       " LayerNorm((768,), eps=1e-12, elementwise_affine=True),\n",
       " LayerNorm((768,), eps=1e-12, elementwise_affine=True),\n",
       " Linear(in_features=768, out_features=768, bias=True),\n",
       " Linear(in_features=768, out_features=768, bias=True),\n",
       " Linear(in_features=768, out_features=768, bias=True),\n",
       " Dropout(p=0.0, inplace=False),\n",
       " Linear(in_features=768, out_features=768, bias=True),\n",
       " Dropout(p=0.0, inplace=False),\n",
       " Linear(in_features=768, out_features=3072, bias=True),\n",
       " GELUActivation(),\n",
       " Linear(in_features=3072, out_features=768, bias=True),\n",
       " Dropout(p=0.0, inplace=False),\n",
       " LayerNorm((768,), eps=1e-12, elementwise_affine=True),\n",
       " LayerNorm((768,), eps=1e-12, elementwise_affine=True),\n",
       " Linear(in_features=768, out_features=768, bias=True),\n",
       " Linear(in_features=768, out_features=768, bias=True),\n",
       " Linear(in_features=768, out_features=768, bias=True),\n",
       " Dropout(p=0.0, inplace=False),\n",
       " Linear(in_features=768, out_features=768, bias=True),\n",
       " Dropout(p=0.0, inplace=False),\n",
       " Linear(in_features=768, out_features=3072, bias=True),\n",
       " GELUActivation(),\n",
       " Linear(in_features=3072, out_features=768, bias=True),\n",
       " Dropout(p=0.0, inplace=False),\n",
       " LayerNorm((768,), eps=1e-12, elementwise_affine=True),\n",
       " LayerNorm((768,), eps=1e-12, elementwise_affine=True),\n",
       " Linear(in_features=768, out_features=768, bias=True),\n",
       " Linear(in_features=768, out_features=768, bias=True),\n",
       " Linear(in_features=768, out_features=768, bias=True),\n",
       " Dropout(p=0.0, inplace=False),\n",
       " Linear(in_features=768, out_features=768, bias=True),\n",
       " Dropout(p=0.0, inplace=False),\n",
       " Linear(in_features=768, out_features=3072, bias=True),\n",
       " GELUActivation(),\n",
       " Linear(in_features=3072, out_features=768, bias=True),\n",
       " Dropout(p=0.0, inplace=False),\n",
       " LayerNorm((768,), eps=1e-12, elementwise_affine=True),\n",
       " LayerNorm((768,), eps=1e-12, elementwise_affine=True),\n",
       " Linear(in_features=768, out_features=768, bias=True),\n",
       " Linear(in_features=768, out_features=768, bias=True),\n",
       " Linear(in_features=768, out_features=768, bias=True),\n",
       " Dropout(p=0.0, inplace=False),\n",
       " Linear(in_features=768, out_features=768, bias=True),\n",
       " Dropout(p=0.0, inplace=False),\n",
       " Linear(in_features=768, out_features=3072, bias=True),\n",
       " GELUActivation(),\n",
       " Linear(in_features=3072, out_features=768, bias=True),\n",
       " Dropout(p=0.0, inplace=False),\n",
       " LayerNorm((768,), eps=1e-12, elementwise_affine=True),\n",
       " LayerNorm((768,), eps=1e-12, elementwise_affine=True),\n",
       " Linear(in_features=768, out_features=768, bias=True),\n",
       " Linear(in_features=768, out_features=768, bias=True),\n",
       " Linear(in_features=768, out_features=768, bias=True),\n",
       " Dropout(p=0.0, inplace=False),\n",
       " Linear(in_features=768, out_features=768, bias=True),\n",
       " Dropout(p=0.0, inplace=False),\n",
       " Linear(in_features=768, out_features=3072, bias=True),\n",
       " GELUActivation(),\n",
       " Linear(in_features=3072, out_features=768, bias=True),\n",
       " Dropout(p=0.0, inplace=False),\n",
       " LayerNorm((768,), eps=1e-12, elementwise_affine=True),\n",
       " LayerNorm((768,), eps=1e-12, elementwise_affine=True),\n",
       " Linear(in_features=768, out_features=768, bias=True),\n",
       " Linear(in_features=768, out_features=768, bias=True),\n",
       " Linear(in_features=768, out_features=768, bias=True),\n",
       " Dropout(p=0.0, inplace=False),\n",
       " Linear(in_features=768, out_features=768, bias=True),\n",
       " Dropout(p=0.0, inplace=False),\n",
       " Linear(in_features=768, out_features=3072, bias=True),\n",
       " GELUActivation(),\n",
       " Linear(in_features=3072, out_features=768, bias=True),\n",
       " Dropout(p=0.0, inplace=False),\n",
       " LayerNorm((768,), eps=1e-12, elementwise_affine=True),\n",
       " LayerNorm((768,), eps=1e-12, elementwise_affine=True),\n",
       " Linear(in_features=768, out_features=768, bias=True),\n",
       " Linear(in_features=768, out_features=768, bias=True),\n",
       " Linear(in_features=768, out_features=768, bias=True),\n",
       " Dropout(p=0.0, inplace=False),\n",
       " Linear(in_features=768, out_features=768, bias=True),\n",
       " Dropout(p=0.0, inplace=False),\n",
       " Linear(in_features=768, out_features=3072, bias=True),\n",
       " GELUActivation(),\n",
       " Linear(in_features=3072, out_features=768, bias=True),\n",
       " Dropout(p=0.0, inplace=False),\n",
       " LayerNorm((768,), eps=1e-12, elementwise_affine=True),\n",
       " LayerNorm((768,), eps=1e-12, elementwise_affine=True),\n",
       " Linear(in_features=768, out_features=768, bias=True),\n",
       " Linear(in_features=768, out_features=768, bias=True),\n",
       " Linear(in_features=768, out_features=768, bias=True),\n",
       " Dropout(p=0.0, inplace=False),\n",
       " Linear(in_features=768, out_features=768, bias=True),\n",
       " Dropout(p=0.0, inplace=False),\n",
       " Linear(in_features=768, out_features=3072, bias=True),\n",
       " GELUActivation(),\n",
       " Linear(in_features=3072, out_features=768, bias=True),\n",
       " Dropout(p=0.0, inplace=False),\n",
       " LayerNorm((768,), eps=1e-12, elementwise_affine=True),\n",
       " LayerNorm((768,), eps=1e-12, elementwise_affine=True),\n",
       " Linear(in_features=768, out_features=768, bias=True),\n",
       " Linear(in_features=768, out_features=768, bias=True),\n",
       " Linear(in_features=768, out_features=768, bias=True),\n",
       " Dropout(p=0.0, inplace=False),\n",
       " Linear(in_features=768, out_features=768, bias=True),\n",
       " Dropout(p=0.0, inplace=False),\n",
       " Linear(in_features=768, out_features=3072, bias=True),\n",
       " GELUActivation(),\n",
       " Linear(in_features=3072, out_features=768, bias=True),\n",
       " Dropout(p=0.0, inplace=False),\n",
       " LayerNorm((768,), eps=1e-12, elementwise_affine=True),\n",
       " LayerNorm((768,), eps=1e-12, elementwise_affine=True),\n",
       " Linear(in_features=768, out_features=768, bias=True),\n",
       " Linear(in_features=768, out_features=768, bias=True),\n",
       " Linear(in_features=768, out_features=768, bias=True),\n",
       " Dropout(p=0.0, inplace=False),\n",
       " Linear(in_features=768, out_features=768, bias=True),\n",
       " Dropout(p=0.0, inplace=False),\n",
       " Linear(in_features=768, out_features=3072, bias=True),\n",
       " GELUActivation(),\n",
       " Linear(in_features=3072, out_features=768, bias=True),\n",
       " Dropout(p=0.0, inplace=False),\n",
       " LayerNorm((768,), eps=1e-12, elementwise_affine=True),\n",
       " LayerNorm((768,), eps=1e-12, elementwise_affine=True),\n",
       " LayerNorm((768,), eps=1e-12, elementwise_affine=True),\n",
       " Linear(in_features=768, out_features=2, bias=True)]"
      ]
     },
     "execution_count": 23,
     "metadata": {},
     "output_type": "execute_result"
    }
   ],
   "source": [
    "get_children(vit_model)"
   ]
  },
  {
   "cell_type": "code",
   "execution_count": 24,
   "id": "a6cd3426-817b-487e-a9fa-19c9e4cfa8e7",
   "metadata": {},
   "outputs": [
    {
     "data": {
      "text/plain": [
       "ViTForImageClassification(\n",
       "  (vit): ViTModel(\n",
       "    (embeddings): ViTEmbeddings(\n",
       "      (patch_embeddings): ViTPatchEmbeddings(\n",
       "        (projection): Conv2d(3, 768, kernel_size=(16, 16), stride=(16, 16))\n",
       "      )\n",
       "      (dropout): Dropout(p=0.0, inplace=False)\n",
       "    )\n",
       "    (encoder): ViTEncoder(\n",
       "      (layer): ModuleList(\n",
       "        (0-11): 12 x ViTLayer(\n",
       "          (attention): ViTAttention(\n",
       "            (attention): ViTSelfAttention(\n",
       "              (query): Linear(in_features=768, out_features=768, bias=True)\n",
       "              (key): Linear(in_features=768, out_features=768, bias=True)\n",
       "              (value): Linear(in_features=768, out_features=768, bias=True)\n",
       "              (dropout): Dropout(p=0.0, inplace=False)\n",
       "            )\n",
       "            (output): ViTSelfOutput(\n",
       "              (dense): Linear(in_features=768, out_features=768, bias=True)\n",
       "              (dropout): Dropout(p=0.0, inplace=False)\n",
       "            )\n",
       "          )\n",
       "          (intermediate): ViTIntermediate(\n",
       "            (dense): Linear(in_features=768, out_features=3072, bias=True)\n",
       "            (intermediate_act_fn): GELUActivation()\n",
       "          )\n",
       "          (output): ViTOutput(\n",
       "            (dense): Linear(in_features=3072, out_features=768, bias=True)\n",
       "            (dropout): Dropout(p=0.0, inplace=False)\n",
       "          )\n",
       "          (layernorm_before): LayerNorm((768,), eps=1e-12, elementwise_affine=True)\n",
       "          (layernorm_after): LayerNorm((768,), eps=1e-12, elementwise_affine=True)\n",
       "        )\n",
       "      )\n",
       "    )\n",
       "    (layernorm): LayerNorm((768,), eps=1e-12, elementwise_affine=True)\n",
       "  )\n",
       "  (classifier): Linear(in_features=768, out_features=2, bias=True)\n",
       ")"
      ]
     },
     "execution_count": 24,
     "metadata": {},
     "output_type": "execute_result"
    }
   ],
   "source": [
    "vit_model"
   ]
  },
  {
   "cell_type": "code",
   "execution_count": 25,
   "id": "b055f5bc-dfa7-44af-afca-790985a23aa1",
   "metadata": {},
   "outputs": [],
   "source": [
    "# Статическая квантизация модели\n",
    "\n",
    "backend = \"fbgemm\"\n",
    "vit_model.qconfig = torch.quantization.get_default_qconfig(backend)\n",
    "torch.backends.quantized.engine = backend\n",
    "quantized_model = torch.quantization.prepare(vit_model, inplace=False)\n",
    "quantized_model = torch.quantization.convert(quantized_model, inplace=False)\n",
    "model_static_quantized = torch.quantization.QuantWrapper(quantized_model)"
   ]
  },
  {
   "cell_type": "code",
   "execution_count": 26,
   "id": "f6069b3c-6c29-4d33-9f22-34d0cbadba11",
   "metadata": {},
   "outputs": [
    {
     "name": "stdout",
     "output_type": "stream",
     "text": [
      "Точность квантизированной модели =  0.5\n",
      "Время обработки изображений квантизированной модели =  12.914300203323364  секунд\n",
      "Скорость обработки изображений у квантизированной модели составила   12.389366630862865  картинок в секунду\n"
     ]
    }
   ],
   "source": [
    "start_time = time.time()\n",
    "\n",
    "# Собака 1, кошка 0.\n",
    "target_list = []\n",
    "predict_list = []\n",
    "\n",
    "for element in images_list:\n",
    "\n",
    "    image = Image.open(path + element, mode='r', formats=None)\n",
    "\n",
    "    inputs = extractor(image, return_tensors=\"pt\")\n",
    "    predict = model_use(model_static_quantized, inputs)\n",
    "    target = element[:element.find(\".\")]\n",
    "\n",
    "    if target == \"dog\":\n",
    "        label = 1\n",
    "    else:\n",
    "        label = 0\n",
    "\n",
    "    target_list.append(label) \n",
    "\n",
    "    if predict == \"dogs\":\n",
    "        pr = 1\n",
    "    else:\n",
    "        pr = 0\n",
    "\n",
    "    predict_list.append(pr)\n",
    "\n",
    "end_time = time.time()\n",
    "\n",
    "acc = accuracy_score(target_list, predict_list)\n",
    "print(\"Точность квантизированной модели = \", acc)\n",
    "print(\"Время обработки изображений квантизированной модели = \", end_time-start_time, \" секунд\")\n",
    "print(\"Скорость обработки изображений у квантизированной модели составила  \", len(images_list)/(end_time-start_time), \" картинок в секунду\")"
   ]
  },
  {
   "cell_type": "code",
   "execution_count": 28,
   "id": "627e0b92-ddc1-42e7-bada-4e9a7db3ddf4",
   "metadata": {},
   "outputs": [
    {
     "name": "stdout",
     "output_type": "stream",
     "text": [
      "model size: 0.727MB\n"
     ]
    }
   ],
   "source": [
    "# Итоговый размер модели\n",
    "\n",
    "size_measurement(model_static_quantized)"
   ]
  },
  {
   "cell_type": "code",
   "execution_count": null,
   "id": "78f6bd13-3386-4e0f-a1c4-2ff76d36f5e7",
   "metadata": {},
   "outputs": [],
   "source": []
  }
 ],
 "metadata": {
  "kernelspec": {
   "display_name": "Python 3 (ipykernel)",
   "language": "python",
   "name": "python3"
  },
  "language_info": {
   "codemirror_mode": {
    "name": "ipython",
    "version": 3
   },
   "file_extension": ".py",
   "mimetype": "text/x-python",
   "name": "python",
   "nbconvert_exporter": "python",
   "pygments_lexer": "ipython3",
   "version": "3.10.13"
  }
 },
 "nbformat": 4,
 "nbformat_minor": 5
}
