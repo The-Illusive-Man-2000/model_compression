{
 "cells": [
  {
   "cell_type": "code",
   "execution_count": 25,
   "id": "913ecfee-d4e0-4f81-8c09-eb0e42144dc9",
   "metadata": {},
   "outputs": [],
   "source": [
    "import os\n",
    "import time\n",
    "from transformers import AutoFeatureExtractor, AutoModelForImageClassification\n",
    "import torch\n",
    "from PIL import Image\n",
    "from sklearn.metrics import accuracy_score"
   ]
  },
  {
   "cell_type": "code",
   "execution_count": 26,
   "id": "78ff58bf-087a-4f47-a2b1-9067f4770dc8",
   "metadata": {},
   "outputs": [
    {
     "name": "stderr",
     "output_type": "stream",
     "text": [
      "/home/kirill/.local/lib/python3.10/site-packages/transformers/models/vit/feature_extraction_vit.py:28: FutureWarning: The class ViTFeatureExtractor is deprecated and will be removed in version 5 of Transformers. Please use ViTImageProcessor instead.\n",
      "  warnings.warn(\n"
     ]
    }
   ],
   "source": [
    "path_to_model = \"weights/my_model\"\n",
    "\n",
    "extractor = AutoFeatureExtractor.from_pretrained(path_to_model)\n",
    "vit_model = AutoModelForImageClassification.from_pretrained(path_to_model)"
   ]
  },
  {
   "cell_type": "code",
   "execution_count": 27,
   "id": "b1a67a8c-881b-4d51-9973-1e4eac482aa1",
   "metadata": {},
   "outputs": [],
   "source": [
    "def model_use(model, img):\n",
    "    with torch.no_grad():\n",
    "        logits = model(**img).logits\n",
    "\n",
    "    predicted_label = logits.argmax(-1).item()\n",
    "\n",
    "    return model.config.id2label[predicted_label]"
   ]
  },
  {
   "cell_type": "code",
   "execution_count": 28,
   "id": "ccda66de-70f3-4b08-9f97-db2589b05153",
   "metadata": {},
   "outputs": [],
   "source": [
    "path = \"data/\"\n",
    "images_list = os.listdir(path)"
   ]
  },
  {
   "cell_type": "code",
   "execution_count": 29,
   "id": "517c2ec4-9c32-4ad3-baca-30f5afd7da1e",
   "metadata": {},
   "outputs": [],
   "source": [
    "def size_measurement(model):\n",
    "    param_size = 0\n",
    "    for param in model.parameters():\n",
    "        param_size += param.nelement() * param.element_size()\n",
    "\n",
    "    buffer_size = 0\n",
    "    for buffer in model.buffers():\n",
    "        buffer_size += buffer.nelement() * buffer.element_size()\n",
    "\n",
    "    size_all_mb = (param_size + buffer_size) / (1024 ** 2)\n",
    "    print('model size: {:.3f}MB'.format(size_all_mb))"
   ]
  },
  {
   "cell_type": "code",
   "execution_count": 30,
   "id": "2c9b867d-aab9-4adc-9cf1-206f75e604cc",
   "metadata": {},
   "outputs": [
    {
     "name": "stdout",
     "output_type": "stream",
     "text": [
      "model size: 327.302MB\n"
     ]
    }
   ],
   "source": [
    "# Найдем исходный размер модели.\n",
    "size_measurement(vit_model)"
   ]
  },
  {
   "cell_type": "code",
   "execution_count": 32,
   "id": "f9e86a17-8e1b-4858-8a72-98ff43369caf",
   "metadata": {},
   "outputs": [],
   "source": [
    "import torch.nn.utils.prune as prune\n",
    "import copy"
   ]
  },
  {
   "cell_type": "markdown",
   "id": "51404550-82fb-4113-82ff-9a9219733e30",
   "metadata": {},
   "source": [
    "# Multimodal structured pruning"
   ]
  },
  {
   "cell_type": "code",
   "execution_count": 36,
   "id": "6a836891-efc7-4944-8796-d393c7185934",
   "metadata": {},
   "outputs": [],
   "source": [
    "model_prune = copy.deepcopy(vit_model)\n",
    "\n",
    "for name, module in model_prune.named_modules():\n",
    "    if isinstance(module, torch.nn.Linear):\n",
    "        module = prune.ln_structured(module, name='weight', amount=0.05, n='fro', dim=-1)\n",
    "        module = prune.random_structured(module, name='weight', amount=0.01, dim=-1)\n",
    "        prune.remove(module, name='weight')\n",
    "        "
   ]
  },
  {
   "cell_type": "code",
   "execution_count": 39,
   "id": "56a46795-9cc5-4b34-9cf2-dab36d00954d",
   "metadata": {},
   "outputs": [
    {
     "name": "stdout",
     "output_type": "stream",
     "text": [
      "Точность модели после прунинга=  0.95625\n",
      "Время обработки изображений модели после прунинга=  19.01687526702881  секунд\n",
      "Скорость обработки изображений у модели после прунинга составила   8.413579925899064  картинок в секунду\n"
     ]
    }
   ],
   "source": [
    "start_time = time.time()\n",
    "\n",
    "# Собака 1, кошка 0.\n",
    "target_list = []\n",
    "predict_list = []\n",
    "\n",
    "for element in images_list:\n",
    "\n",
    "    image = Image.open(path + element, mode='r', formats=None)\n",
    "\n",
    "    inputs = extractor(image, return_tensors=\"pt\")\n",
    "    predict = model_use(model_prune, inputs)\n",
    "    target = element[:element.find(\".\")]\n",
    "\n",
    "    if target == \"dog\":\n",
    "        label = 1\n",
    "    else:\n",
    "        label = 0\n",
    "\n",
    "    target_list.append(label)\n",
    "\n",
    "    if predict == \"dogs\":\n",
    "        pr = 1\n",
    "    else:\n",
    "        pr = 0\n",
    "\n",
    "    predict_list.append(pr)\n",
    "\n",
    "end_time = time.time()\n",
    "\n",
    "acc = accuracy_score(target_list, predict_list)\n",
    "print(\"Точность модели после прунинга= \", acc)\n",
    "print(\"Время обработки изображений модели после прунинга= \", end_time-start_time, \" секунд\")\n",
    "print(\"Скорость обработки изображений у модели после прунинга составила  \", len(images_list)/(end_time-start_time), \" картинок в секунду\")"
   ]
  },
  {
   "cell_type": "code",
   "execution_count": 40,
   "id": "035aea64-573a-49f4-9b9b-5fe347075d92",
   "metadata": {},
   "outputs": [
    {
     "name": "stdout",
     "output_type": "stream",
     "text": [
      "model size: 327.302MB\n"
     ]
    }
   ],
   "source": [
    "# Найдем исходный размер модели.\n",
    "size_measurement(model_prune)"
   ]
  },
  {
   "cell_type": "code",
   "execution_count": null,
   "id": "42c8c4e1-3fd4-47b9-be85-a89a5bb8aa45",
   "metadata": {},
   "outputs": [],
   "source": []
  }
 ],
 "metadata": {
  "kernelspec": {
   "display_name": "Python 3 (ipykernel)",
   "language": "python",
   "name": "python3"
  },
  "language_info": {
   "codemirror_mode": {
    "name": "ipython",
    "version": 3
   },
   "file_extension": ".py",
   "mimetype": "text/x-python",
   "name": "python",
   "nbconvert_exporter": "python",
   "pygments_lexer": "ipython3",
   "version": "3.10.12"
  }
 },
 "nbformat": 4,
 "nbformat_minor": 5
}
